{
 "cells": [
  {
   "cell_type": "code",
   "execution_count": 1,
   "metadata": {},
   "outputs": [],
   "source": [
    "import pyttsx3"
   ]
  },
  {
   "cell_type": "code",
   "execution_count": 2,
   "metadata": {},
   "outputs": [],
   "source": [
    "engine = pyttsx3.init()"
   ]
  },
  {
   "cell_type": "code",
   "execution_count": 3,
   "metadata": {},
   "outputs": [],
   "source": [
    "engine.setProperty(\"voice\", \"brazil\")"
   ]
  },
  {
   "cell_type": "code",
   "execution_count": 6,
   "metadata": {},
   "outputs": [],
   "source": [
    "# observar que o pyttsx3 trabalha com filas\n",
    "\n",
    "engine.say(\"Meu nome é Arthur\")\n",
    "engine.say(\"Eu estou estudando python\")\n",
    "engine.say(\"Python é demais!\")\n"
   ]
  },
  {
   "cell_type": "code",
   "execution_count": 7,
   "metadata": {},
   "outputs": [],
   "source": [
    "engine.runAndWait()"
   ]
  },
  {
   "cell_type": "code",
   "execution_count": 8,
   "metadata": {},
   "outputs": [],
   "source": [
    "# gerando arquivos mp3\n",
    "engine.save_to_file(\"Meu nome é Arthur\", \"teste.mp3\")"
   ]
  },
  {
   "cell_type": "code",
   "execution_count": 9,
   "metadata": {},
   "outputs": [],
   "source": [
    "engine.runAndWait()"
   ]
  },
  {
   "cell_type": "markdown",
   "metadata": {},
   "source": [
    "### Extraindo texto do livro infantil"
   ]
  },
  {
   "cell_type": "code",
   "execution_count": 10,
   "metadata": {},
   "outputs": [],
   "source": [
    "import pdfplumber"
   ]
  },
  {
   "cell_type": "code",
   "execution_count": 11,
   "metadata": {},
   "outputs": [],
   "source": [
    "pdf = pdfplumber.open(\"O elefante em apuros.pdf\")"
   ]
  },
  {
   "cell_type": "code",
   "execution_count": 16,
   "metadata": {},
   "outputs": [],
   "source": [
    "paginas = pdf.pages[2:26]"
   ]
  },
  {
   "cell_type": "code",
   "execution_count": 17,
   "metadata": {},
   "outputs": [],
   "source": [
    "texto_livro = ''\n",
    "for pagina in paginas:\n",
    "    texto_livro += pagina.extract_text()"
   ]
  },
  {
   "cell_type": "code",
   "execution_count": 18,
   "metadata": {},
   "outputs": [
    {
     "data": {
      "text/plain": [
       "'O grande elefante estava andando na savana africana,quando viu algo se mexendo no chão e foi ver o que era.De repente, ele pisou em um chão mole.Os pés do elefante grudaram no chão, e ele começou a afundar.\\n– Oh, não! Pisei numa areia movediça! – suspirou o elefante.\\n– Por favor, alguém me ajude!Um hipopótamo ouviu o grito e resolveu ajudar o elefante.Ele puxou, puxou... mas o elefante não desatolou.Um rinoceronte passava por ali e resolveu ajudar.O rinoceronte puxou o hipopótamo, que puxou o elefante.\\nPuxaram, puxaram, mas não conseguiram desatolar o elefante.Uma girafa passava por ali e resolveu ajudar.A girafa puxou o rinoceronte, que puxou o hipopótamo, que puxou o elefante.\\nPuxaram, puxaram, mas não desatolaram o elefante.Um leão passou por ali e resolveu ajudar.O leão puxou a girafa, que puxou o rinoceronte, que puxou o hipopótamo, que\\npuxou o elefante. Puxaram, puxaram, mas não conseguiram desatolar o elefante.Uma hiena passou por ali, deu uma risada, e resolveu ajudar.A hiena puxou o leão, que puxou a girafa, que puxou o rinoceronte, que puxou\\no hipopótamo, que puxou o elefante. Puxaram, puxaram, mas não conseguiram\\ndesatolar o elefante.Um jovem suricato passou por ali e quis ajudar. Mas pensou: eu sou\\nmuito pequeno, não vou conseguir ajudar a puxar um elefante.Além disso, estou procurando a minha mãe. Ele gritou:\\n– Mamãe, onde você está? – Mas a mãe dele não respondeu.Quem respondeu foi o elefante, que já estava quase inteiro afundado na\\nareia movediça e estava desesperado. – Por favor, me ajude! – ele gritou.\\nEntão o jovem suricato resolveu ajudar.O suricato puxou a hiena, que puxou o leão, que puxou a girafa, que\\npuxou o rinoceronte, que puxou o hipopótamo, que puxou o elefante.\\nPuxaram, puxaram, mas não conseguiram desatolar o elefante.O suricato tinha dois irmãos, que também estavam procurando a mãe.\\nEles resolveram ajudar.O suricato puxou o suricato, que puxou o suricato, que puxou a hiena, que\\npuxou o leão, que puxou a girafa, que puxou o rinoceronte, que puxou o\\nhipopótamo, que puxou o elefante. Puxaram, puxaram, com toda força...E finalmente conseguiram desatolar o elefante.– Eba! – todo mundo gritou. O elefante ficou muito feliz!\\nTodos os animais ficaram muito alegres!Principalmente os jovens suricatos, quando viram alguém\\nagarrado ao rabo do elefante. Era a mamãe suricato!Ela também tinha afundado na areia movediça\\ne só conseguiu se salvar graças ao esforço de todos os animais.'"
      ]
     },
     "execution_count": 18,
     "metadata": {},
     "output_type": "execute_result"
    }
   ],
   "source": [
    "texto_livro"
   ]
  },
  {
   "cell_type": "code",
   "execution_count": 22,
   "metadata": {},
   "outputs": [],
   "source": [
    "texto_final = texto_livro.replace('.', '. ').replace(',', ', ') # ajustando os espaçamentos e pontuação"
   ]
  },
  {
   "cell_type": "code",
   "execution_count": 21,
   "metadata": {},
   "outputs": [
    {
     "data": {
      "text/plain": [
       "'O grande elefante estava andando na savana africana, quando viu algo se mexendo no chão e foi ver o que era. De repente,  ele pisou em um chão mole. Os pés do elefante grudaram no chão,  e ele começou a afundar. \\n– Oh,  não! Pisei numa areia movediça! – suspirou o elefante. \\n– Por favor,  alguém me ajude!Um hipopótamo ouviu o grito e resolveu ajudar o elefante. Ele puxou,  puxou. . .  mas o elefante não desatolou. Um rinoceronte passava por ali e resolveu ajudar. O rinoceronte puxou o hipopótamo,  que puxou o elefante. \\nPuxaram,  puxaram,  mas não conseguiram desatolar o elefante. Uma girafa passava por ali e resolveu ajudar. A girafa puxou o rinoceronte,  que puxou o hipopótamo,  que puxou o elefante. \\nPuxaram,  puxaram,  mas não desatolaram o elefante. Um leão passou por ali e resolveu ajudar. O leão puxou a girafa,  que puxou o rinoceronte,  que puxou o hipopótamo,  que\\npuxou o elefante.  Puxaram,  puxaram,  mas não conseguiram desatolar o elefante. Uma hiena passou por ali,  deu uma risada,  e resolveu ajudar. A hiena puxou o leão,  que puxou a girafa,  que puxou o rinoceronte,  que puxou\\no hipopótamo,  que puxou o elefante.  Puxaram,  puxaram,  mas não conseguiram\\ndesatolar o elefante. Um jovem suricato passou por ali e quis ajudar.  Mas pensou: eu sou\\nmuito pequeno,  não vou conseguir ajudar a puxar um elefante. Além disso,  estou procurando a minha mãe.  Ele gritou:\\n– Mamãe,  onde você está? – Mas a mãe dele não respondeu. Quem respondeu foi o elefante,  que já estava quase inteiro afundado na\\nareia movediça e estava desesperado.  – Por favor,  me ajude! – ele gritou. \\nEntão o jovem suricato resolveu ajudar. O suricato puxou a hiena,  que puxou o leão,  que puxou a girafa,  que\\npuxou o rinoceronte,  que puxou o hipopótamo,  que puxou o elefante. \\nPuxaram,  puxaram,  mas não conseguiram desatolar o elefante. O suricato tinha dois irmãos,  que também estavam procurando a mãe. \\nEles resolveram ajudar. O suricato puxou o suricato,  que puxou o suricato,  que puxou a hiena,  que\\npuxou o leão,  que puxou a girafa,  que puxou o rinoceronte,  que puxou o\\nhipopótamo,  que puxou o elefante.  Puxaram,  puxaram,  com toda força. . . E finalmente conseguiram desatolar o elefante. – Eba! – todo mundo gritou.  O elefante ficou muito feliz!\\nTodos os animais ficaram muito alegres!Principalmente os jovens suricatos,  quando viram alguém\\nagarrado ao rabo do elefante.  Era a mamãe suricato!Ela também tinha afundado na areia movediça\\ne só conseguiu se salvar graças ao esforço de todos os animais. '"
      ]
     },
     "execution_count": 21,
     "metadata": {},
     "output_type": "execute_result"
    }
   ],
   "source": [
    "texto_final"
   ]
  },
  {
   "cell_type": "code",
   "execution_count": null,
   "metadata": {},
   "outputs": [],
   "source": []
  }
 ],
 "metadata": {
  "kernelspec": {
   "display_name": "venv",
   "language": "python",
   "name": "python3"
  },
  "language_info": {
   "codemirror_mode": {
    "name": "ipython",
    "version": 3
   },
   "file_extension": ".py",
   "mimetype": "text/x-python",
   "name": "python",
   "nbconvert_exporter": "python",
   "pygments_lexer": "ipython3",
   "version": "3.12.3"
  }
 },
 "nbformat": 4,
 "nbformat_minor": 2
}
